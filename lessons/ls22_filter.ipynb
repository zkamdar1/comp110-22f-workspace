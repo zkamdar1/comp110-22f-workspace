{
 "cells": [
  {
   "cell_type": "markdown",
   "metadata": {},
   "source": [
    "# Filtering Data Based on Criteria\n",
    "\n",
    "In this lesson, we will use a simple, small, old dataset of weather projections in Chapel Hill for Thursday, March 25th, through Saturday, April 3rd, of 2022. Each row is the projection for the next day in that timeframe.\n",
    "\n",
    "Our analysis goal is to find the average temperatures on days where it is unlikely (less than 30%) to rain.\n",
    "\n",
    "We will consider approaching this problem from a column-oriented perspective.\n",
    "\n",
    "First, let's consider our data set."
   ]
  },
  {
   "cell_type": "code",
   "execution_count": 1,
   "metadata": {},
   "outputs": [
    {
     "data": {
      "text/plain": [
       "{'high': [77, 84, 78, 79, 65, 67, 74, 61, 55, 61],\n",
       " 'low': [67, 51, 64, 45, 43, 53, 56, 37, 34, 42],\n",
       " 'rain': [0.3, 0.2, 0.4, 0.8, 0.0, 0.2, 0.4, 0.5, 0.1, 0.1]}"
      ]
     },
     "execution_count": 1,
     "metadata": {},
     "output_type": "execute_result"
    }
   ],
   "source": [
    "col_data: dict[str, list[float]] = {\n",
    "    \"high\": [77, 84, 78, 79, 65, 67, 74, 61, 55, 61],\n",
    "    \"low\":  [67, 51, 64, 45, 43, 53, 56, 37, 34, 42],\n",
    "    \"rain\": [.3, .2, .4, .8, 0., .2, .4, .5, .1, .1]\n",
    "}\n",
    "\n",
    "col_data"
   ]
  },
  {
   "cell_type": "code",
   "execution_count": 4,
   "metadata": {},
   "outputs": [
    {
     "name": "stdout",
     "output_type": "stream",
     "text": [
      "[0.3, 0.2, 0.4, 0.8, 0.0, 0.2, 0.4, 0.5, 0.1, 0.1]\n",
      "[77, 84, 78, 79, 65, 67, 74, 61, 55, 61]\n"
     ]
    }
   ],
   "source": [
    "print(col_data[\"rain\"])\n",
    "print(col_data[\"high\"])"
   ]
  },
  {
   "cell_type": "markdown",
   "metadata": {},
   "source": [
    "## Produce a \"Mask\" Based on Criteria"
   ]
  },
  {
   "cell_type": "code",
   "execution_count": 7,
   "metadata": {},
   "outputs": [],
   "source": [
    "def less_than(col: list[float], threshold: float) -> list[bool]:\n",
    "    result: list[bool] = []\n",
    "    for item in col:\n",
    "        result.append(item < threshold)\n",
    "        # The line above is the same as the following:\n",
    "        # if item < threshold:\n",
    "        #     result.append(True)\n",
    "        # else:\n",
    "        #     result.append(False)\n",
    "    return result\n",
    "\n",
    "# Example, testing call:\n",
    "no_rain_mask: list[bool] = less_than(col_data[\"rain\"], 0.3)"
   ]
  },
  {
   "cell_type": "markdown",
   "metadata": {},
   "source": [
    "# Masked Function\n",
    "\n",
    "Takes in a column and a list of masks (bool values), returns only the values in the input column where the corresponding mask value is True."
   ]
  },
  {
   "cell_type": "code",
   "execution_count": 12,
   "metadata": {},
   "outputs": [
    {
     "name": "stdout",
     "output_type": "stream",
     "text": [
      "[84, 65, 67, 55, 61]\n"
     ]
    }
   ],
   "source": [
    "def masked(col: list[float], mask: list[bool]) -> list[float]:\n",
    "    result: list[float] = []\n",
    "    for i in range(len(mask)):\n",
    "        if mask[i]:\n",
    "            result.append(col[i])\n",
    "    return result\n",
    "\n",
    "# Test call\n",
    "# print(col_data[\"rain\"])\n",
    "# print(no_rain_mask)\n",
    "# print(col_data[\"high\"])\n",
    "highs_of_no_rain_days: list[float] = masked(col_data[\"high\"], no_rain_mask)\n",
    "print(highs_of_no_rain_days)"
   ]
  },
  {
   "cell_type": "markdown",
   "metadata": {},
   "source": [
    "## Compute the Average"
   ]
  },
  {
   "cell_type": "code",
   "execution_count": 14,
   "metadata": {},
   "outputs": [
    {
     "data": {
      "text/plain": [
       "66.4"
      ]
     },
     "execution_count": 14,
     "metadata": {},
     "output_type": "execute_result"
    }
   ],
   "source": [
    "def mean(col: list[float]) -> float:\n",
    "    return sum(col) / len(col)\n",
    "\n",
    "mean(highs_of_no_rain_days)"
   ]
  },
  {
   "cell_type": "markdown",
   "metadata": {},
   "source": [
    "## With these helper functions, we can perform many analyses!"
   ]
  },
  {
   "cell_type": "code",
   "execution_count": 17,
   "metadata": {},
   "outputs": [
    {
     "name": "stdout",
     "output_type": "stream",
     "text": [
      "0.30000000000000004\n"
     ]
    }
   ],
   "source": [
    "cold_days_mask: list[bool] = less_than(col_data[\"low\"], 50)\n",
    "rain_on_cold_days: list[float] = masked(col_data[\"rain\"], cold_days_mask)\n",
    "print(mean(rain_on_cold_days))"
   ]
  }
 ],
 "metadata": {
  "interpreter": {
   "hash": "aee8b7b246df8f9039afb4144a1f6fd8d2ca17a180786b69acc140d282b71a49"
  },
  "kernelspec": {
   "display_name": "Python 3.9.6 64-bit",
   "language": "python",
   "name": "python3"
  },
  "language_info": {
   "codemirror_mode": {
    "name": "ipython",
    "version": 3
   },
   "file_extension": ".py",
   "mimetype": "text/x-python",
   "name": "python",
   "nbconvert_exporter": "python",
   "pygments_lexer": "ipython3",
   "version": "3.10.6"
  },
  "orig_nbformat": 4
 },
 "nbformat": 4,
 "nbformat_minor": 2
}
